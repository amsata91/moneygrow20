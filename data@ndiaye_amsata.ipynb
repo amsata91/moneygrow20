{
 "cells": [
  {
   "cell_type": "markdown",
   "metadata": {},
   "source": [
    "# Importation  des bibliothèques nécessaires"
   ]
  },
  {
   "cell_type": "markdown",
   "metadata": {},
   "source": [
    "Avant de travailler avec des bibliothèques comme Pandas ou Numpy, il faut les importer ; et avant même cette étape, il faut installer ces bibliothèques. Si ce n’est pas encore fait sur votre machine. Une fois que c’est fait, nous pouvons les importer :"
   ]
  },
  {
   "cell_type": "code",
   "execution_count": 5,
   "metadata": {},
   "outputs": [],
   "source": [
    "import pandas as pd\n",
    "import numpy as np\n",
    "#import matplotlib.p\n",
    "import datetime\n",
    "import pylab as P"
   ]
  },
  {
   "cell_type": "markdown",
   "metadata": {},
   "source": [
    "# Importation  des données"
   ]
  },
  {
   "cell_type": "markdown",
   "metadata": {},
   "source": [
    "Le jeu de données est accessible au format CSV. Cela tombe bien, puisque Pandas permet de lire des données :"
   ]
  },
  {
   "cell_type": "code",
   "execution_count": 6,
   "metadata": {},
   "outputs": [],
   "source": [
    "cities=pd.read_csv('cities.csv', sep=',', index_col=0)\n",
    "ticket_data=pd.read_csv('ticket_data.csv', sep=',',index_col=0)\n",
    "stations=pd.read_csv('stations.csv', sep=',', index_col=0)\n",
    "providers=pd.read_csv('providers.csv', sep=',', index_col=0)"
   ]
  },
  {
   "cell_type": "markdown",
   "metadata": {},
   "source": [
    "Nous disposons maintenant des données importées dans un objet de type DataFrame — en gros un tableau ou une table — que nous avons appelé “cities,ticket_data,stations,providers” et sur lesquels nous allons pouvoir commencer à travailler. Nous avons affichier que ticket_data."
   ]
  },
  {
   "cell_type": "code",
   "execution_count": 7,
   "metadata": {},
   "outputs": [
    {
     "data": {
      "text/html": [
       "<div>\n",
       "<style scoped>\n",
       "    .dataframe tbody tr th:only-of-type {\n",
       "        vertical-align: middle;\n",
       "    }\n",
       "\n",
       "    .dataframe tbody tr th {\n",
       "        vertical-align: top;\n",
       "    }\n",
       "\n",
       "    .dataframe thead th {\n",
       "        text-align: right;\n",
       "    }\n",
       "</style>\n",
       "<table border=\"1\" class=\"dataframe\">\n",
       "  <thead>\n",
       "    <tr style=\"text-align: right;\">\n",
       "      <th></th>\n",
       "      <th>company</th>\n",
       "      <th>o_station</th>\n",
       "      <th>d_station</th>\n",
       "      <th>departure_ts</th>\n",
       "      <th>arrival_ts</th>\n",
       "      <th>price_in_cents</th>\n",
       "      <th>search_ts</th>\n",
       "      <th>middle_stations</th>\n",
       "      <th>other_companies</th>\n",
       "      <th>o_city</th>\n",
       "      <th>d_city</th>\n",
       "    </tr>\n",
       "    <tr>\n",
       "      <th>id</th>\n",
       "      <th></th>\n",
       "      <th></th>\n",
       "      <th></th>\n",
       "      <th></th>\n",
       "      <th></th>\n",
       "      <th></th>\n",
       "      <th></th>\n",
       "      <th></th>\n",
       "      <th></th>\n",
       "      <th></th>\n",
       "      <th></th>\n",
       "    </tr>\n",
       "  </thead>\n",
       "  <tbody>\n",
       "    <tr>\n",
       "      <th>6795025</th>\n",
       "      <td>8385</td>\n",
       "      <td>NaN</td>\n",
       "      <td>NaN</td>\n",
       "      <td>2017-10-13 14:00:00+00</td>\n",
       "      <td>2017-10-13 20:10:00+00</td>\n",
       "      <td>4550</td>\n",
       "      <td>2017-10-01 00:13:31.327+00</td>\n",
       "      <td>NaN</td>\n",
       "      <td>NaN</td>\n",
       "      <td>611</td>\n",
       "      <td>542</td>\n",
       "    </tr>\n",
       "    <tr>\n",
       "      <th>6795026</th>\n",
       "      <td>9</td>\n",
       "      <td>63.0</td>\n",
       "      <td>1044.0</td>\n",
       "      <td>2017-10-13 13:05:00+00</td>\n",
       "      <td>2017-10-14 06:55:00+00</td>\n",
       "      <td>1450</td>\n",
       "      <td>2017-10-01 00:13:35.773+00</td>\n",
       "      <td>{149,418}</td>\n",
       "      <td>{13}</td>\n",
       "      <td>611</td>\n",
       "      <td>542</td>\n",
       "    </tr>\n",
       "    <tr>\n",
       "      <th>6795027</th>\n",
       "      <td>8377</td>\n",
       "      <td>5905.0</td>\n",
       "      <td>6495.0</td>\n",
       "      <td>2017-10-13 13:27:00+00</td>\n",
       "      <td>2017-10-14 21:24:00+00</td>\n",
       "      <td>7400</td>\n",
       "      <td>2017-10-01 00:13:40.212+00</td>\n",
       "      <td>{798,798,6794,6246}</td>\n",
       "      <td>{8377,8376}</td>\n",
       "      <td>611</td>\n",
       "      <td>542</td>\n",
       "    </tr>\n",
       "    <tr>\n",
       "      <th>6795028</th>\n",
       "      <td>8377</td>\n",
       "      <td>5905.0</td>\n",
       "      <td>6495.0</td>\n",
       "      <td>2017-10-13 13:27:00+00</td>\n",
       "      <td>2017-10-14 11:02:00+00</td>\n",
       "      <td>13500</td>\n",
       "      <td>2017-10-01 00:13:40.213+00</td>\n",
       "      <td>{798,798,6794,6246}</td>\n",
       "      <td>{8377,8376}</td>\n",
       "      <td>611</td>\n",
       "      <td>542</td>\n",
       "    </tr>\n",
       "    <tr>\n",
       "      <th>6795029</th>\n",
       "      <td>8381</td>\n",
       "      <td>5905.0</td>\n",
       "      <td>6495.0</td>\n",
       "      <td>2017-10-13 21:46:00+00</td>\n",
       "      <td>2017-10-14 19:32:00+00</td>\n",
       "      <td>7710</td>\n",
       "      <td>2017-10-01 00:13:40.213+00</td>\n",
       "      <td>{5983,5983}</td>\n",
       "      <td>{8380}</td>\n",
       "      <td>611</td>\n",
       "      <td>542</td>\n",
       "    </tr>\n",
       "    <tr>\n",
       "      <th>6795030</th>\n",
       "      <td>8385</td>\n",
       "      <td>NaN</td>\n",
       "      <td>NaN</td>\n",
       "      <td>2017-10-06 05:30:00+00</td>\n",
       "      <td>2017-10-06 08:30:00+00</td>\n",
       "      <td>1800</td>\n",
       "      <td>2017-10-01 01:03:18.948+00</td>\n",
       "      <td>NaN</td>\n",
       "      <td>NaN</td>\n",
       "      <td>628</td>\n",
       "      <td>453</td>\n",
       "    </tr>\n",
       "    <tr>\n",
       "      <th>6795031</th>\n",
       "      <td>8385</td>\n",
       "      <td>NaN</td>\n",
       "      <td>NaN</td>\n",
       "      <td>2017-10-06 07:00:42+00</td>\n",
       "      <td>2017-10-06 09:30:42+00</td>\n",
       "      <td>2150</td>\n",
       "      <td>2017-10-01 01:03:18.948+00</td>\n",
       "      <td>NaN</td>\n",
       "      <td>NaN</td>\n",
       "      <td>628</td>\n",
       "      <td>453</td>\n",
       "    </tr>\n",
       "    <tr>\n",
       "      <th>6795032</th>\n",
       "      <td>8385</td>\n",
       "      <td>NaN</td>\n",
       "      <td>NaN</td>\n",
       "      <td>2017-10-06 07:10:00+00</td>\n",
       "      <td>2017-10-06 09:40:00+00</td>\n",
       "      <td>1700</td>\n",
       "      <td>2017-10-01 01:03:18.948+00</td>\n",
       "      <td>NaN</td>\n",
       "      <td>NaN</td>\n",
       "      <td>628</td>\n",
       "      <td>453</td>\n",
       "    </tr>\n",
       "    <tr>\n",
       "      <th>6795033</th>\n",
       "      <td>8385</td>\n",
       "      <td>NaN</td>\n",
       "      <td>NaN</td>\n",
       "      <td>2017-10-06 10:00:00+00</td>\n",
       "      <td>2017-10-06 12:50:00+00</td>\n",
       "      <td>1700</td>\n",
       "      <td>2017-10-01 01:03:18.948+00</td>\n",
       "      <td>NaN</td>\n",
       "      <td>NaN</td>\n",
       "      <td>628</td>\n",
       "      <td>453</td>\n",
       "    </tr>\n",
       "    <tr>\n",
       "      <th>6795034</th>\n",
       "      <td>8385</td>\n",
       "      <td>NaN</td>\n",
       "      <td>NaN</td>\n",
       "      <td>2017-10-06 10:00:00+00</td>\n",
       "      <td>2017-10-06 12:50:00+00</td>\n",
       "      <td>1900</td>\n",
       "      <td>2017-10-01 01:03:18.948+00</td>\n",
       "      <td>NaN</td>\n",
       "      <td>NaN</td>\n",
       "      <td>628</td>\n",
       "      <td>453</td>\n",
       "    </tr>\n",
       "  </tbody>\n",
       "</table>\n",
       "</div>"
      ],
      "text/plain": [
       "         company  o_station  d_station            departure_ts  \\\n",
       "id                                                               \n",
       "6795025     8385        NaN        NaN  2017-10-13 14:00:00+00   \n",
       "6795026        9       63.0     1044.0  2017-10-13 13:05:00+00   \n",
       "6795027     8377     5905.0     6495.0  2017-10-13 13:27:00+00   \n",
       "6795028     8377     5905.0     6495.0  2017-10-13 13:27:00+00   \n",
       "6795029     8381     5905.0     6495.0  2017-10-13 21:46:00+00   \n",
       "6795030     8385        NaN        NaN  2017-10-06 05:30:00+00   \n",
       "6795031     8385        NaN        NaN  2017-10-06 07:00:42+00   \n",
       "6795032     8385        NaN        NaN  2017-10-06 07:10:00+00   \n",
       "6795033     8385        NaN        NaN  2017-10-06 10:00:00+00   \n",
       "6795034     8385        NaN        NaN  2017-10-06 10:00:00+00   \n",
       "\n",
       "                     arrival_ts  price_in_cents                   search_ts  \\\n",
       "id                                                                            \n",
       "6795025  2017-10-13 20:10:00+00            4550  2017-10-01 00:13:31.327+00   \n",
       "6795026  2017-10-14 06:55:00+00            1450  2017-10-01 00:13:35.773+00   \n",
       "6795027  2017-10-14 21:24:00+00            7400  2017-10-01 00:13:40.212+00   \n",
       "6795028  2017-10-14 11:02:00+00           13500  2017-10-01 00:13:40.213+00   \n",
       "6795029  2017-10-14 19:32:00+00            7710  2017-10-01 00:13:40.213+00   \n",
       "6795030  2017-10-06 08:30:00+00            1800  2017-10-01 01:03:18.948+00   \n",
       "6795031  2017-10-06 09:30:42+00            2150  2017-10-01 01:03:18.948+00   \n",
       "6795032  2017-10-06 09:40:00+00            1700  2017-10-01 01:03:18.948+00   \n",
       "6795033  2017-10-06 12:50:00+00            1700  2017-10-01 01:03:18.948+00   \n",
       "6795034  2017-10-06 12:50:00+00            1900  2017-10-01 01:03:18.948+00   \n",
       "\n",
       "             middle_stations other_companies  o_city  d_city  \n",
       "id                                                            \n",
       "6795025                  NaN             NaN     611     542  \n",
       "6795026            {149,418}            {13}     611     542  \n",
       "6795027  {798,798,6794,6246}     {8377,8376}     611     542  \n",
       "6795028  {798,798,6794,6246}     {8377,8376}     611     542  \n",
       "6795029          {5983,5983}          {8380}     611     542  \n",
       "6795030                  NaN             NaN     628     453  \n",
       "6795031                  NaN             NaN     628     453  \n",
       "6795032                  NaN             NaN     628     453  \n",
       "6795033                  NaN             NaN     628     453  \n",
       "6795034                  NaN             NaN     628     453  "
      ]
     },
     "execution_count": 7,
     "metadata": {},
     "output_type": "execute_result"
    }
   ],
   "source": [
    "#cities.head(10)\n",
    "ticket_data.head(10)\n",
    "#stations.head(18)\n",
    "#providers.head(10)"
   ]
  },
  {
   "cell_type": "markdown",
   "metadata": {},
   "source": [
    "# Exploration rapide des jeux de données"
   ]
  },
  {
   "cell_type": "markdown",
   "metadata": {},
   "source": [
    "Ici nous allons affichier les noms des colonnes de nos DataFrame."
   ]
  },
  {
   "cell_type": "code",
   "execution_count": 8,
   "metadata": {},
   "outputs": [
    {
     "data": {
      "text/plain": [
       "Index(['local_name', 'unique_name', 'latitude', 'longitude', 'population'], dtype='object')"
      ]
     },
     "execution_count": 8,
     "metadata": {},
     "output_type": "execute_result"
    }
   ],
   "source": [
    "cities.columns"
   ]
  },
  {
   "cell_type": "code",
   "execution_count": 9,
   "metadata": {},
   "outputs": [
    {
     "data": {
      "text/plain": [
       "Index(['unique_name', 'latitude', 'longitude'], dtype='object')"
      ]
     },
     "execution_count": 9,
     "metadata": {},
     "output_type": "execute_result"
    }
   ],
   "source": [
    "stations.columns"
   ]
  },
  {
   "cell_type": "code",
   "execution_count": 10,
   "metadata": {},
   "outputs": [
    {
     "data": {
      "text/plain": [
       "Index(['company', 'o_station', 'd_station', 'departure_ts', 'arrival_ts',\n",
       "       'price_in_cents', 'search_ts', 'middle_stations', 'other_companies',\n",
       "       'o_city', 'd_city'],\n",
       "      dtype='object')"
      ]
     },
     "execution_count": 10,
     "metadata": {},
     "output_type": "execute_result"
    }
   ],
   "source": [
    "ticket_data.columns"
   ]
  },
  {
   "cell_type": "code",
   "execution_count": 11,
   "metadata": {},
   "outputs": [
    {
     "data": {
      "text/plain": [
       "Index(['company_id', 'provider_id', 'name', 'fullname', 'has_wifi', 'has_plug',\n",
       "       'has_adjustable_seats', 'has_bicycle', 'transport_type'],\n",
       "      dtype='object')"
      ]
     },
     "execution_count": 11,
     "metadata": {},
     "output_type": "execute_result"
    }
   ],
   "source": [
    "providers.columns"
   ]
  },
  {
   "cell_type": "markdown",
   "metadata": {},
   "source": [
    "# Nous allons extraire les infos intéressantes tels que type prix min, moyen et max, durée min/max/moyenne par trajet"
   ]
  },
  {
   "cell_type": "markdown",
   "metadata": {},
   "source": [
    "##   Prix min, moyen et max"
   ]
  },
  {
   "cell_type": "markdown",
   "metadata": {},
   "source": [
    "Pour ce faire nous allons l'histogramme des prix puis faire le resumer du données ticket_data pour voir les information tels que prix min , moyen et max."
   ]
  },
  {
   "cell_type": "code",
   "execution_count": 12,
   "metadata": {},
   "outputs": [
    {
     "data": {
      "text/plain": [
       "<AxesSubplot:>"
      ]
     },
     "execution_count": 12,
     "metadata": {},
     "output_type": "execute_result"
    },
    {
     "data": {
      "image/png": "[encoded data removed]",
      "text/plain": [
       "<Figure size 432x288 with 1 Axes>"
      ]
     },
     "metadata": {
      "needs_background": "light"
     },
     "output_type": "display_data"
    }
   ],
   "source": [
    "ticket_data[\"price_in_cents\"].hist()"
   ]
  },
  {
   "cell_type": "code",
   "execution_count": 25,
   "metadata": {},
   "outputs": [],
   "source": [
    "prix_desc=ticket_data.describe()[\"price_in_cents\"]"
   ]
  },
  {
   "cell_type": "code",
   "execution_count": 26,
   "metadata": {},
   "outputs": [
    {
     "name": "stdout",
     "output_type": "stream",
     "text": [
      "count    74168.000000\n",
      "mean      4382.711061\n",
      "std       3739.325367\n",
      "min        300.000000\n",
      "25%       1900.000000\n",
      "50%       3350.000000\n",
      "75%       5250.000000\n",
      "max      38550.000000\n",
      "Name: price_in_cents, dtype: float64\n"
     ]
    }
   ],
   "source": [
    "print(prix_desc)"
   ]
  },
  {
   "cell_type": "markdown",
   "metadata": {},
   "source": [
    "## Durée min/max/moyenne par trajet"
   ]
  },
  {
   "cell_type": "markdown",
   "metadata": {},
   "source": [
    "Pour ce faire nous allons créer une colonne appeler duration (le durée du trajet) puis recuperer les informations tels que la durée min/max/moyen par trajet."
   ]
  },
  {
   "cell_type": "code",
   "execution_count": 19,
   "metadata": {},
   "outputs": [
    {
     "data": {
      "text/plain": [
       "company                                  8377\n",
       "o_station                                5905\n",
       "d_station                                6495\n",
       "departure_ts        2017-10-13 13:27:00+00:00\n",
       "arrival_ts          2017-10-14 21:24:00+00:00\n",
       "price_in_cents                           7400\n",
       "search_ts          2017-10-01 00:13:40.212+00\n",
       "middle_stations           {798,798,6794,6246}\n",
       "other_companies                   {8377,8376}\n",
       "o_city                                    611\n",
       "d_city                                    542\n",
       "Name: 6795027, dtype: object"
      ]
     },
     "execution_count": 19,
     "metadata": {},
     "output_type": "execute_result"
    }
   ],
   "source": [
    "ticket_data1=pd.read_csv('ticket_data.csv', sep=',', index_col=0,\n",
    "                         parse_dates = ['departure_ts','arrival_ts'])\n",
    "ticket_data1['departure_ts'] = pd.to_datetime(ticket_data1['departure_ts'],format = \"%Y-%m-%d %H:%M:%S\")\n",
    "ticket_data1.iloc[2]"
   ]
  },
  {
   "cell_type": "code",
   "execution_count": 20,
   "metadata": {},
   "outputs": [
    {
     "data": {
      "text/html": [
       "<div>\n",
       "<style scoped>\n",
       "    .dataframe tbody tr th:only-of-type {\n",
       "        vertical-align: middle;\n",
       "    }\n",
       "\n",
       "    .dataframe tbody tr th {\n",
       "        vertical-align: top;\n",
       "    }\n",
       "\n",
       "    .dataframe thead th {\n",
       "        text-align: right;\n",
       "    }\n",
       "</style>\n",
       "<table border=\"1\" class=\"dataframe\">\n",
       "  <thead>\n",
       "    <tr style=\"text-align: right;\">\n",
       "      <th></th>\n",
       "      <th>company</th>\n",
       "      <th>o_station</th>\n",
       "      <th>d_station</th>\n",
       "      <th>departure_ts</th>\n",
       "      <th>arrival_ts</th>\n",
       "      <th>price_in_cents</th>\n",
       "      <th>search_ts</th>\n",
       "      <th>middle_stations</th>\n",
       "      <th>other_companies</th>\n",
       "      <th>o_city</th>\n",
       "      <th>d_city</th>\n",
       "    </tr>\n",
       "    <tr>\n",
       "      <th>id</th>\n",
       "      <th></th>\n",
       "      <th></th>\n",
       "      <th></th>\n",
       "      <th></th>\n",
       "      <th></th>\n",
       "      <th></th>\n",
       "      <th></th>\n",
       "      <th></th>\n",
       "      <th></th>\n",
       "      <th></th>\n",
       "      <th></th>\n",
       "    </tr>\n",
       "  </thead>\n",
       "  <tbody>\n",
       "    <tr>\n",
       "      <th>6795025</th>\n",
       "      <td>8385</td>\n",
       "      <td>NaN</td>\n",
       "      <td>NaN</td>\n",
       "      <td>2017-10-13 14:00:00+00</td>\n",
       "      <td>2017-10-13 20:10:00+00</td>\n",
       "      <td>4550</td>\n",
       "      <td>2017-10-01 00:13:31.327+00</td>\n",
       "      <td>NaN</td>\n",
       "      <td>NaN</td>\n",
       "      <td>611</td>\n",
       "      <td>542</td>\n",
       "    </tr>\n",
       "    <tr>\n",
       "      <th>6795026</th>\n",
       "      <td>9</td>\n",
       "      <td>63.0</td>\n",
       "      <td>1044.0</td>\n",
       "      <td>2017-10-13 13:05:00+00</td>\n",
       "      <td>2017-10-14 06:55:00+00</td>\n",
       "      <td>1450</td>\n",
       "      <td>2017-10-01 00:13:35.773+00</td>\n",
       "      <td>{149,418}</td>\n",
       "      <td>{13}</td>\n",
       "      <td>611</td>\n",
       "      <td>542</td>\n",
       "    </tr>\n",
       "    <tr>\n",
       "      <th>6795027</th>\n",
       "      <td>8377</td>\n",
       "      <td>5905.0</td>\n",
       "      <td>6495.0</td>\n",
       "      <td>2017-10-13 13:27:00+00</td>\n",
       "      <td>2017-10-14 21:24:00+00</td>\n",
       "      <td>7400</td>\n",
       "      <td>2017-10-01 00:13:40.212+00</td>\n",
       "      <td>{798,798,6794,6246}</td>\n",
       "      <td>{8377,8376}</td>\n",
       "      <td>611</td>\n",
       "      <td>542</td>\n",
       "    </tr>\n",
       "    <tr>\n",
       "      <th>6795028</th>\n",
       "      <td>8377</td>\n",
       "      <td>5905.0</td>\n",
       "      <td>6495.0</td>\n",
       "      <td>2017-10-13 13:27:00+00</td>\n",
       "      <td>2017-10-14 11:02:00+00</td>\n",
       "      <td>13500</td>\n",
       "      <td>2017-10-01 00:13:40.213+00</td>\n",
       "      <td>{798,798,6794,6246}</td>\n",
       "      <td>{8377,8376}</td>\n",
       "      <td>611</td>\n",
       "      <td>542</td>\n",
       "    </tr>\n",
       "    <tr>\n",
       "      <th>6795029</th>\n",
       "      <td>8381</td>\n",
       "      <td>5905.0</td>\n",
       "      <td>6495.0</td>\n",
       "      <td>2017-10-13 21:46:00+00</td>\n",
       "      <td>2017-10-14 19:32:00+00</td>\n",
       "      <td>7710</td>\n",
       "      <td>2017-10-01 00:13:40.213+00</td>\n",
       "      <td>{5983,5983}</td>\n",
       "      <td>{8380}</td>\n",
       "      <td>611</td>\n",
       "      <td>542</td>\n",
       "    </tr>\n",
       "  </tbody>\n",
       "</table>\n",
       "</div>"
      ],
      "text/plain": [
       "         company  o_station  d_station            departure_ts  \\\n",
       "id                                                               \n",
       "6795025     8385        NaN        NaN  2017-10-13 14:00:00+00   \n",
       "6795026        9       63.0     1044.0  2017-10-13 13:05:00+00   \n",
       "6795027     8377     5905.0     6495.0  2017-10-13 13:27:00+00   \n",
       "6795028     8377     5905.0     6495.0  2017-10-13 13:27:00+00   \n",
       "6795029     8381     5905.0     6495.0  2017-10-13 21:46:00+00   \n",
       "\n",
       "                     arrival_ts  price_in_cents                   search_ts  \\\n",
       "id                                                                            \n",
       "6795025  2017-10-13 20:10:00+00            4550  2017-10-01 00:13:31.327+00   \n",
       "6795026  2017-10-14 06:55:00+00            1450  2017-10-01 00:13:35.773+00   \n",
       "6795027  2017-10-14 21:24:00+00            7400  2017-10-01 00:13:40.212+00   \n",
       "6795028  2017-10-14 11:02:00+00           13500  2017-10-01 00:13:40.213+00   \n",
       "6795029  2017-10-14 19:32:00+00            7710  2017-10-01 00:13:40.213+00   \n",
       "\n",
       "             middle_stations other_companies  o_city  d_city  \n",
       "id                                                            \n",
       "6795025                  NaN             NaN     611     542  \n",
       "6795026            {149,418}            {13}     611     542  \n",
       "6795027  {798,798,6794,6246}     {8377,8376}     611     542  \n",
       "6795028  {798,798,6794,6246}     {8377,8376}     611     542  \n",
       "6795029          {5983,5983}          {8380}     611     542  "
      ]
     },
     "execution_count": 20,
     "metadata": {},
     "output_type": "execute_result"
    }
   ],
   "source": [
    "# # Create a duration column\n",
    "ticket_data1['Duration'] = ticket_data1['arrival_ts'] - ticket_data1['departure_ts']\n",
    "# affichage des données\n",
    "ticket_data.head()"
   ]
  },
  {
   "cell_type": "code",
   "execution_count": 23,
   "metadata": {},
   "outputs": [
    {
     "name": "stdout",
     "output_type": "stream",
     "text": [
      "count                        74168\n",
      "mean     0 days 07:04:37.247600043\n",
      "std      0 days 09:54:58.881351022\n",
      "min                0 days 00:20:00\n",
      "25%                0 days 03:00:00\n",
      "50%                0 days 04:50:00\n",
      "75%                0 days 08:00:00\n",
      "max               20 days 12:51:00\n",
      "Name: Duration, dtype: object\n"
     ]
    }
   ],
   "source": [
    "duree_desc=ticket_data1.describe()['Duration']\n",
    "print(duree_desc)"
   ]
  },
  {
   "cell_type": "markdown",
   "metadata": {},
   "source": [
    "On voit bien que la durée min est égale à $20$ minutes,  max  est égale à $20$ jours et $12$ heure $51$ minutes"
   ]
  },
  {
   "cell_type": "markdown",
   "metadata": {},
   "source": [
    "# Différence de prix moyen et durée selon le train, le bus et le covoit selon la distance du trajet (0-200km, 201-800km, 800-2000km, 2000+km)"
   ]
  },
  {
   "cell_type": "markdown",
   "metadata": {},
   "source": [
    "## Différence de prix moyen et durée selon le train"
   ]
  },
  {
   "cell_type": "markdown",
   "metadata": {},
   "source": []
  }
 ],
 "metadata": {
  "kernelspec": {
   "display_name": "Python 3",
   "language": "python",
   "name": "python3"
  },
  "language_info": {
   "codemirror_mode": {
    "name": "ipython",
    "version": 3
   },
   "file_extension": ".py",
   "mimetype": "text/x-python",
   "name": "python",
   "nbconvert_exporter": "python",
   "pygments_lexer": "ipython3",
   "version": "3.7.7"
  }
 },
 "nbformat": 4,
 "nbformat_minor": 4
}
